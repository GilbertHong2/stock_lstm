{
  "cells": [
    {
      "cell_type": "markdown",
      "metadata": {
        "id": "vGbT1dgk2h0D"
      },
      "source": [
        "# Stock Prediction\n",
        "\n",
        "In this project, I used a Recurrent Neural Network regressor with the Long Term Short Memory model and time series to predict the stock price of American Airlines (AAL) in 2020.\n",
        "\n",
        "LTSM is used avoid technical problems with optimization of RNNs."
      ]
    },
    {
      "cell_type": "markdown",
      "metadata": {
        "id": "boG82OJt2n4g"
      },
      "source": [
        "# 1. Load Data\n",
        "\n",
        "The input data is a time series data from 2013 to 2018 of different stock tickers. The data is initially normalized using a minmax normalizer."
      ]
    },
    {
      "cell_type": "code",
      "execution_count": 1,
      "metadata": {
        "colab": {
          "base_uri": "https://localhost:8080/"
        },
        "id": "IbjTHavP8j0r",
        "outputId": "93ab539b-3a47-406b-9149-83451e99676b"
      },
      "outputs": [
        {
          "name": "stdout",
          "output_type": "stream",
          "text": [
            "Drive already mounted at /content/drive; to attempt to forcibly remount, call drive.mount(\"/content/drive\", force_remount=True).\n"
          ]
        }
      ],
      "source": [
        "# from google.colab import drive\n",
        "# drive.mount('/content/drive')"
      ]
    },
    {
      "cell_type": "code",
      "execution_count": 2,
      "metadata": {
        "colab": {
          "base_uri": "https://localhost:8080/"
        },
        "id": "niUNOxV18qa1",
        "outputId": "83a90c66-8547-4c7a-f745-504b76cd9423"
      },
      "outputs": [
        {
          "name": "stdout",
          "output_type": "stream",
          "text": [
            "/content/drive/MyDrive/Colab Notebooks/Projects/Stock LSTM\n"
          ]
        }
      ],
      "source": [
        "# cd /content/drive/MyDrive/Colab Notebooks/Projects/Stock LSTM/"
      ]
    },
    {
      "cell_type": "code",
      "execution_count": 3,
      "metadata": {
        "colab": {
          "base_uri": "https://localhost:8080/"
        },
        "id": "3-8wHDYS28-m",
        "outputId": "6716af1f-ca2b-46fe-8f18-a25229b71fed"
      },
      "outputs": [
        {
          "name": "stdout",
          "output_type": "stream",
          "text": [
            "all_stocks_5yr.csv  stock_prediction_lstm.ipynb\n"
          ]
        }
      ],
      "source": [
        "# !ls"
      ]
    },
    {
      "cell_type": "code",
      "execution_count": 4,
      "metadata": {
        "id": "lC_2yxKR2bSe"
      },
      "outputs": [],
      "source": [
        "import numpy as np\n",
        "import pandas as pd\n",
        "import matplotlib.pyplot as plt\n",
        "\n",
        "import torch.nn as nn\n",
        "import torch\n",
        "from torch.autograd import Variable\n",
        "from torch.utils.data import Dataset, DataLoader"
      ]
    },
    {
      "cell_type": "code",
      "execution_count": 5,
      "metadata": {
        "id": "BvFrixdV2bSw"
      },
      "outputs": [],
      "source": [
        "# Importing the training set\n",
        "dataset = pd.read_csv('./all_stocks_5yr.csv')\n",
        "dataset_cl = dataset[dataset['Name']=='AAL'].close.values"
      ]
    },
    {
      "cell_type": "code",
      "execution_count": 6,
      "metadata": {
        "id": "XFvN25Yj3w9r"
      },
      "outputs": [],
      "source": [
        "# Normalization\n",
        "from sklearn.preprocessing import MinMaxScaler\n",
        "\n",
        "sc = MinMaxScaler(feature_range = (0, 1))\n",
        "\n",
        "dataset_cl = dataset_cl.reshape(dataset_cl.shape[0], 1)\n",
        "dataset_cl = sc.fit_transform(dataset_cl)"
      ]
    },
    {
      "cell_type": "markdown",
      "metadata": {
        "id": "UURKEshg3g0G"
      },
      "source": [
        "# 2.  Cutting our time series into sequences"
      ]
    },
    {
      "cell_type": "markdown",
      "metadata": {
        "id": "kExRQuPlAL3r"
      },
      "source": [
        "The time series stock price data are split into sequnces (windows) of length $L$, starting at time $t$, and end at time $t + L - 1$, as inputs to the LSTM neural network. The outputs that the model is trying to predict are the stock prices at time $t+L$.\n",
        "\n",
        "For example, using a window of size T = 3, the set of input/output pairs are like the table below:\n",
        "\n",
        "$$\\begin{array}{c|c}\n",
        "\\text{Input} & \\text{Output}\\\\\n",
        "\\hline \\color{CornflowerBlue} {\\langle s_{1},s_{2},s_{3}\\rangle} & \\color{Goldenrod}{ s_{4}} \\\\\n",
        "\\ \\color{CornflowerBlue} {\\langle s_{2},s_{3},s_{4} \\rangle } & \\color{Goldenrod} {s_{5} } \\\\\n",
        "\\color{CornflowerBlue} {\\langle s_{3},s_{4},s_{5} \\rangle } & \\color{Goldenrod} {s_{6} } \\\\\n",
        "\\color{CornflowerBlue}  {\\vdots} & \\color{Goldenrod} {\\vdots}\\\\\n",
        "\\color{CornflowerBlue} { \\langle s_{t-3},s_{t-2},s_{t-1} \\rangle } & \\color{Goldenrod} {s_{t}}\n",
        "\\end{array}$$"
      ]
    },
    {
      "cell_type": "code",
      "execution_count": 7,
      "metadata": {
        "id": "pvBLqRvm4L6k"
      },
      "outputs": [],
      "source": [
        "# The model here uses a 5-day look back (L=5) for the model\n",
        "def processData(data, lb):\n",
        "    X, Y = [], []\n",
        "    for i in range(len(data) - lb - 1):\n",
        "        X.append(data[i: (i + lb), 0])\n",
        "        Y.append(data[(i + lb), 0])\n",
        "    return np.array(X), np.array(Y)\n",
        "\n",
        "X, y = processData(dataset_cl, 5)\n"
      ]
    },
    {
      "cell_type": "markdown",
      "metadata": {
        "id": "yHsQGQ_V42G0"
      },
      "source": [
        "# 3. Split Training and Evaluation datasets\n",
        "\n",
        "Since the dataset is a time series data, the data is split temporally. The earliest 80% of the dataset are used as the training dataset and the last 20% are used as evaluation"
      ]
    },
    {
      "cell_type": "code",
      "execution_count": 8,
      "metadata": {
        "id": "syFXDlpn45xA"
      },
      "outputs": [],
      "source": [
        "X_train, X_test = X[:int(X.shape[0]*0.80)],X[int(X.shape[0]*0.80):]\n",
        "y_train, y_test = y[:int(y.shape[0]*0.80)],y[int(y.shape[0]*0.80):]\n",
        "\n",
        "# reshaping\n",
        "X_train = np.reshape(X_train, (X_train.shape[0], 1, X_train.shape[1]))\n",
        "X_test = np.reshape(X_test, (X_test.shape[0], 1, X_test.shape[1]))"
      ]
    },
    {
      "cell_type": "markdown",
      "metadata": {
        "id": "GMXggue15R41"
      },
      "source": [
        "# 4. Build and run a RNN regression model\n",
        "\n",
        "The RNN is built with 2 hidden layers using Keras:\n",
        "\n",
        "- layer 1 uses an LSTM module with 5 hidden units (the input_shape = (L,1))\n",
        "- layer 2 uses a fully connected module with 1 hidden unit\n",
        "- the loss used is MSE"
      ]
    },
    {
      "cell_type": "code",
      "execution_count": 9,
      "metadata": {
        "id": "HNWryPPg2bTM"
      },
      "outputs": [],
      "source": [
        "class RNN(nn.Module):\n",
        "    def __init__(self, i_size, h_size, n_layers, o_size, dropout=0.1, bidirectional=True):\n",
        "        super(RNN, self).__init__()\n",
        "        self.num_directions = bidirectional+1\n",
        "        self.rnn = nn.LSTM(\n",
        "            input_size=i_size,\n",
        "            hidden_size=h_size,\n",
        "            num_layers=n_layers,\n",
        "            dropout=dropout,\n",
        "            bidirectional=bidirectional\n",
        "        )\n",
        "        self.out = nn.Linear(h_size, o_size)\n",
        "\n",
        "    def forward(self, x, h_state):\n",
        "        r_out, hidden_state = self.rnn(x, h_state)\n",
        "\n",
        "        hidden_size = hidden_state[-1].size(-1)\n",
        "        r_out = r_out.view(-1, self.num_directions, hidden_size)\n",
        "        outs = self.out(r_out)\n",
        "\n",
        "        return outs, hidden_state"
      ]
    },
    {
      "cell_type": "code",
      "execution_count": 28,
      "metadata": {
        "id": "SwwPpVsK2bTQ"
      },
      "outputs": [],
      "source": [
        "# Global Variables\n",
        "\n",
        "INPUT_SIZE = 5\n",
        "HIDDEN_SIZE = 64\n",
        "NUM_LAYERS = 3\n",
        "OUTPUT_SIZE = 1\n",
        "BATCH_SIZE = 128\n",
        "\n",
        "# Hyper parameters\n",
        "\n",
        "learning_rate = 0.001\n",
        "num_epochs = 300\n",
        "\n",
        "rnn = RNN(INPUT_SIZE, HIDDEN_SIZE, NUM_LAYERS, OUTPUT_SIZE,bidirectional=False)\n",
        "rnn.cuda()\n",
        "\n",
        "optimiser = torch.optim.Adam(rnn.parameters(), lr=learning_rate)\n",
        "criterion = nn.MSELoss()\n",
        "\n",
        "hidden_state = None"
      ]
    },
    {
      "cell_type": "code",
      "execution_count": 29,
      "metadata": {
        "colab": {
          "base_uri": "https://localhost:8080/"
        },
        "id": "BiQaghDCtNdg",
        "outputId": "0519509e-8a6f-4aaf-f057-290101f5c24c"
      },
      "outputs": [
        {
          "data": {
            "text/plain": [
              "RNN(\n",
              "  (rnn): LSTM(5, 64, num_layers=3, dropout=0.1)\n",
              "  (out): Linear(in_features=64, out_features=1, bias=True)\n",
              ")"
            ]
          },
          "execution_count": 29,
          "metadata": {},
          "output_type": "execute_result"
        }
      ],
      "source": [
        "rnn"
      ]
    },
    {
      "cell_type": "code",
      "execution_count": 32,
      "metadata": {
        "colab": {
          "base_uri": "https://localhost:8080/"
        },
        "id": "QlRhF5JP2bTX",
        "outputId": "2da471a3-39e0-47eb-c5f0-582a70c1e891"
      },
      "outputs": [
        {
          "name": "stdout",
          "output_type": "stream",
          "text": [
            "epoch 0, loss 0.3515038788318634, eval loss 0.6272391080856323\n",
            "epoch 1, loss 0.32347118854522705\n",
            "epoch 2, loss 0.2956629991531372\n",
            "epoch 3, loss 0.267718642950058\n",
            "epoch 4, loss 0.23868872225284576\n",
            "epoch 5, loss 0.2086697518825531\n",
            "epoch 6, loss 0.1770830601453781\n",
            "epoch 7, loss 0.1436043381690979\n",
            "epoch 8, loss 0.1095663458108902\n",
            "epoch 9, loss 0.0765763446688652\n",
            "epoch 10, loss 0.04922741279006004\n",
            "epoch 11, loss 0.03647806495428085\n",
            "epoch 12, loss 0.05569642782211304\n",
            "epoch 13, loss 0.07544367015361786\n",
            "epoch 14, loss 0.07366419583559036\n",
            "epoch 15, loss 0.05799049139022827\n",
            "epoch 16, loss 0.04414261877536774\n",
            "epoch 17, loss 0.0371217355132103\n",
            "epoch 18, loss 0.03585188090801239\n",
            "epoch 19, loss 0.03847205266356468\n",
            "epoch 20, loss 0.041350800544023514, eval loss 0.09909164160490036\n",
            "epoch 21, loss 0.0440436415374279\n",
            "epoch 22, loss 0.04500586912035942\n",
            "epoch 23, loss 0.04483380913734436\n",
            "epoch 24, loss 0.04375418275594711\n",
            "epoch 25, loss 0.040898311883211136\n",
            "epoch 26, loss 0.03745722025632858\n",
            "epoch 27, loss 0.0339818112552166\n",
            "epoch 28, loss 0.030860889703035355\n",
            "epoch 29, loss 0.027607880532741547\n",
            "epoch 30, loss 0.026766328141093254\n",
            "epoch 31, loss 0.026677345857024193\n",
            "epoch 32, loss 0.02792450226843357\n",
            "epoch 33, loss 0.028410587459802628\n",
            "epoch 34, loss 0.027340179309248924\n",
            "epoch 35, loss 0.025117577984929085\n",
            "epoch 36, loss 0.021744491532444954\n",
            "epoch 37, loss 0.01899668574333191\n",
            "epoch 38, loss 0.017165090888738632\n",
            "epoch 39, loss 0.017029698938131332\n",
            "epoch 40, loss 0.0161502156406641, eval loss 0.028010910376906395\n",
            "epoch 41, loss 0.015220277942717075\n",
            "epoch 42, loss 0.013788045383989811\n",
            "epoch 43, loss 0.01140176597982645\n",
            "epoch 44, loss 0.009265345521271229\n",
            "epoch 45, loss 0.008624467998743057\n",
            "epoch 46, loss 0.009336117655038834\n",
            "epoch 47, loss 0.00851739663630724\n",
            "epoch 48, loss 0.0067585185170173645\n",
            "epoch 49, loss 0.005985261872410774\n",
            "epoch 50, loss 0.006600991822779179\n",
            "epoch 51, loss 0.00696286465972662\n",
            "epoch 52, loss 0.005956285633146763\n",
            "epoch 53, loss 0.005162674468010664\n",
            "epoch 54, loss 0.005213907919824123\n",
            "epoch 55, loss 0.005975446198135614\n",
            "epoch 56, loss 0.005281473975628614\n",
            "epoch 57, loss 0.004986196756362915\n",
            "epoch 58, loss 0.004832033533602953\n",
            "epoch 59, loss 0.005253228358924389\n",
            "epoch 60, loss 0.0048445132561028, eval loss 0.011452656239271164\n",
            "epoch 61, loss 0.004277485888451338\n",
            "epoch 62, loss 0.004327557049691677\n",
            "epoch 63, loss 0.00453830836340785\n",
            "epoch 64, loss 0.004255764186382294\n",
            "epoch 65, loss 0.004119379445910454\n",
            "epoch 66, loss 0.003715175436809659\n",
            "epoch 67, loss 0.003991093020886183\n",
            "epoch 68, loss 0.003752800403162837\n",
            "epoch 69, loss 0.0036290648858994246\n",
            "epoch 70, loss 0.00377242686226964\n",
            "epoch 71, loss 0.003545232582837343\n",
            "epoch 72, loss 0.0036484082229435444\n",
            "epoch 73, loss 0.003852528752759099\n",
            "epoch 74, loss 0.003451203228905797\n",
            "epoch 75, loss 0.003466848749667406\n",
            "epoch 76, loss 0.003515470540151\n",
            "epoch 77, loss 0.0033268295228481293\n",
            "epoch 78, loss 0.0036578678991645575\n",
            "epoch 79, loss 0.0034272861666977406\n",
            "epoch 80, loss 0.0034325290471315384, eval loss 0.011703111231327057\n",
            "epoch 81, loss 0.003448865609243512\n",
            "epoch 82, loss 0.0033181055914610624\n",
            "epoch 83, loss 0.0031864920165389776\n",
            "epoch 84, loss 0.003248671069741249\n",
            "epoch 85, loss 0.003043966833502054\n",
            "epoch 86, loss 0.0033131225500255823\n",
            "epoch 87, loss 0.0032650644425302744\n",
            "epoch 88, loss 0.003133653197437525\n",
            "epoch 89, loss 0.003264985280111432\n",
            "epoch 90, loss 0.0030921585857868195\n",
            "epoch 91, loss 0.0030969283543527126\n",
            "epoch 92, loss 0.002996730152517557\n",
            "epoch 93, loss 0.003151905257254839\n",
            "epoch 94, loss 0.0031099014449864626\n",
            "epoch 95, loss 0.0029420889914035797\n",
            "epoch 96, loss 0.0030646580271422863\n",
            "epoch 97, loss 0.003211256116628647\n",
            "epoch 98, loss 0.002980672987177968\n",
            "epoch 99, loss 0.0030333048198372126\n",
            "epoch 100, loss 0.0028608753345906734, eval loss 0.010709789581596851\n",
            "epoch 101, loss 0.00296304514631629\n",
            "epoch 102, loss 0.002821281086653471\n",
            "epoch 103, loss 0.002980811521410942\n",
            "epoch 104, loss 0.003011578693985939\n",
            "epoch 105, loss 0.003031218657270074\n",
            "epoch 106, loss 0.002777117770165205\n",
            "epoch 107, loss 0.0029091094620525837\n",
            "epoch 108, loss 0.002779546193778515\n",
            "epoch 109, loss 0.0029368936084210873\n",
            "epoch 110, loss 0.0030165635980665684\n",
            "epoch 111, loss 0.0029341825284063816\n",
            "epoch 112, loss 0.00294304802082479\n",
            "epoch 113, loss 0.002972017740830779\n",
            "epoch 114, loss 0.0026858821511268616\n",
            "epoch 115, loss 0.0027488411869853735\n",
            "epoch 116, loss 0.0029285482596606016\n",
            "epoch 117, loss 0.002902924083173275\n",
            "epoch 118, loss 0.0028442218899726868\n",
            "epoch 119, loss 0.002771726343780756\n",
            "epoch 120, loss 0.003008034313097596, eval loss 0.010121452622115612\n",
            "epoch 121, loss 0.002914565149694681\n",
            "epoch 122, loss 0.0028835332486778498\n",
            "epoch 123, loss 0.0028107399120926857\n",
            "epoch 124, loss 0.0027473880909383297\n",
            "epoch 125, loss 0.002623169217258692\n",
            "epoch 126, loss 0.002820003777742386\n",
            "epoch 127, loss 0.0026691434904932976\n",
            "epoch 128, loss 0.002753743203356862\n",
            "epoch 129, loss 0.002618699800223112\n",
            "epoch 130, loss 0.0029007873963564634\n",
            "epoch 131, loss 0.0028730076737701893\n",
            "epoch 132, loss 0.0027395752258598804\n",
            "epoch 133, loss 0.0027790504973381758\n",
            "epoch 134, loss 0.002802613191306591\n",
            "epoch 135, loss 0.0026087029837071896\n",
            "epoch 136, loss 0.002671187510713935\n",
            "epoch 137, loss 0.002596945036202669\n",
            "epoch 138, loss 0.002572511089965701\n",
            "epoch 139, loss 0.002839525230228901\n",
            "epoch 140, loss 0.0024871984496712685, eval loss 0.00944336038082838\n",
            "epoch 141, loss 0.0025371196679770947\n",
            "epoch 142, loss 0.002614217111840844\n",
            "epoch 143, loss 0.00259195314720273\n",
            "epoch 144, loss 0.002593212528154254\n",
            "epoch 145, loss 0.002691913628950715\n",
            "epoch 146, loss 0.002629570895805955\n",
            "epoch 147, loss 0.002580835949629545\n",
            "epoch 148, loss 0.0025860401801764965\n",
            "epoch 149, loss 0.0026914963964372873\n",
            "epoch 150, loss 0.0025864753406494856\n",
            "epoch 151, loss 0.002567047020420432\n",
            "epoch 152, loss 0.002710278844460845\n",
            "epoch 153, loss 0.0024698395282030106\n",
            "epoch 154, loss 0.0027284175157546997\n",
            "epoch 155, loss 0.0025661876425147057\n",
            "epoch 156, loss 0.002434114459902048\n",
            "epoch 157, loss 0.0023991100024431944\n",
            "epoch 158, loss 0.002512906678020954\n",
            "epoch 159, loss 0.0027211103588342667\n",
            "epoch 160, loss 0.0026111307088285685, eval loss 0.009149830788373947\n",
            "epoch 161, loss 0.0025249398313462734\n",
            "epoch 162, loss 0.0026996221859008074\n",
            "epoch 163, loss 0.0024318417999893427\n",
            "epoch 164, loss 0.0026626174803823233\n",
            "epoch 165, loss 0.002664524130523205\n",
            "epoch 166, loss 0.002267870819196105\n",
            "epoch 167, loss 0.002546415664255619\n",
            "epoch 168, loss 0.002463141456246376\n",
            "epoch 169, loss 0.0024412106722593307\n",
            "epoch 170, loss 0.002483089454472065\n",
            "epoch 171, loss 0.0025237882509827614\n",
            "epoch 172, loss 0.0024546862114220858\n",
            "epoch 173, loss 0.002455567242577672\n",
            "epoch 174, loss 0.0025465080980211496\n",
            "epoch 175, loss 0.0024964932817965746\n",
            "epoch 176, loss 0.0024347775615751743\n",
            "epoch 177, loss 0.002442949451506138\n",
            "epoch 178, loss 0.0024208349641412497\n",
            "epoch 179, loss 0.002303078770637512\n",
            "epoch 180, loss 0.0023761310148984194, eval loss 0.008552649058401585\n",
            "epoch 181, loss 0.0023673258256167173\n",
            "epoch 182, loss 0.002496731700375676\n",
            "epoch 183, loss 0.0024111855309456587\n",
            "epoch 184, loss 0.0023513524793088436\n",
            "epoch 185, loss 0.0023700150195509195\n",
            "epoch 186, loss 0.0022079749032855034\n",
            "epoch 187, loss 0.002340753097087145\n",
            "epoch 188, loss 0.0023259322624653578\n",
            "epoch 189, loss 0.002314623910933733\n",
            "epoch 190, loss 0.002505058655515313\n",
            "epoch 191, loss 0.0024960513692349195\n",
            "epoch 192, loss 0.0023953085765242577\n",
            "epoch 193, loss 0.002318199025467038\n",
            "epoch 194, loss 0.002283585024997592\n",
            "epoch 195, loss 0.0023420085199177265\n",
            "epoch 196, loss 0.002540069632232189\n",
            "epoch 197, loss 0.0022611073218286037\n",
            "epoch 198, loss 0.002391382586210966\n",
            "epoch 199, loss 0.002335596363991499\n",
            "epoch 200, loss 0.002480294555425644, eval loss 0.008459361270070076\n",
            "epoch 201, loss 0.002256072126328945\n",
            "epoch 202, loss 0.0022594756446778774\n",
            "epoch 203, loss 0.002389908768236637\n",
            "epoch 204, loss 0.002413536887615919\n",
            "epoch 205, loss 0.002589586889371276\n",
            "epoch 206, loss 0.002282737987115979\n",
            "epoch 207, loss 0.002263010712340474\n",
            "epoch 208, loss 0.002294334350153804\n",
            "epoch 209, loss 0.0024152391124516726\n",
            "epoch 210, loss 0.0022449707612395287\n",
            "epoch 211, loss 0.002309506991878152\n",
            "epoch 212, loss 0.0021470943465828896\n",
            "epoch 213, loss 0.002285163849592209\n",
            "epoch 214, loss 0.0022538527846336365\n",
            "epoch 215, loss 0.002320236526429653\n",
            "epoch 216, loss 0.00249661598354578\n",
            "epoch 217, loss 0.0022059534676373005\n",
            "epoch 218, loss 0.002058293204754591\n",
            "epoch 219, loss 0.002384224673733115\n",
            "epoch 220, loss 0.0023238479625433683, eval loss 0.007971254177391529\n",
            "epoch 221, loss 0.002414925256744027\n",
            "epoch 222, loss 0.0021916120313107967\n",
            "epoch 223, loss 0.002300119027495384\n",
            "epoch 224, loss 0.002205233322456479\n",
            "epoch 225, loss 0.0022970102727413177\n",
            "epoch 226, loss 0.0024067151825875044\n",
            "epoch 227, loss 0.002418552292510867\n",
            "epoch 228, loss 0.0023140697740018368\n",
            "epoch 229, loss 0.002381324302405119\n",
            "epoch 230, loss 0.002561283763498068\n",
            "epoch 231, loss 0.002430364955216646\n",
            "epoch 232, loss 0.0023034929763525724\n",
            "epoch 233, loss 0.0022561850491911173\n",
            "epoch 234, loss 0.0021497055422514677\n",
            "epoch 235, loss 0.0022213791962713003\n",
            "epoch 236, loss 0.0021462426520884037\n",
            "epoch 237, loss 0.0020874147303402424\n",
            "epoch 238, loss 0.0020223362371325493\n",
            "epoch 239, loss 0.002350839087739587\n",
            "epoch 240, loss 0.002227834891527891, eval loss 0.007466736249625683\n",
            "epoch 241, loss 0.0022505782544612885\n",
            "epoch 242, loss 0.0021021973807364702\n",
            "epoch 243, loss 0.002188903046771884\n",
            "epoch 244, loss 0.002048481022939086\n",
            "epoch 245, loss 0.0021650511771440506\n",
            "epoch 246, loss 0.0023649234790354967\n",
            "epoch 247, loss 0.0022079588379710913\n",
            "epoch 248, loss 0.002220830414444208\n",
            "epoch 249, loss 0.0022117439657449722\n",
            "epoch 250, loss 0.002217450411990285\n",
            "epoch 251, loss 0.0021071801893413067\n",
            "epoch 252, loss 0.0021833425853401423\n",
            "epoch 253, loss 0.0023658107966184616\n",
            "epoch 254, loss 0.0021084649488329887\n",
            "epoch 255, loss 0.0021534410770982504\n",
            "epoch 256, loss 0.0020294846035540104\n",
            "epoch 257, loss 0.0021253670565783978\n",
            "epoch 258, loss 0.0022341180592775345\n",
            "epoch 259, loss 0.002094119321554899\n",
            "epoch 260, loss 0.002154526300728321, eval loss 0.007222528103739023\n",
            "epoch 261, loss 0.0021152053959667683\n",
            "epoch 262, loss 0.0022782739251852036\n",
            "epoch 263, loss 0.002203290816396475\n",
            "epoch 264, loss 0.0022496343590319157\n",
            "epoch 265, loss 0.0020429864525794983\n",
            "epoch 266, loss 0.0021612849086523056\n",
            "epoch 267, loss 0.0021570513490587473\n",
            "epoch 268, loss 0.002057151636108756\n",
            "epoch 269, loss 0.002190864644944668\n",
            "epoch 270, loss 0.0021117960568517447\n",
            "epoch 271, loss 0.002117067575454712\n",
            "epoch 272, loss 0.0021247449330985546\n",
            "epoch 273, loss 0.0022117439657449722\n",
            "epoch 274, loss 0.002012502634897828\n",
            "epoch 275, loss 0.0020996923558413982\n",
            "epoch 276, loss 0.002135899383574724\n",
            "epoch 277, loss 0.002165719633921981\n",
            "epoch 278, loss 0.0021492294035851955\n",
            "epoch 279, loss 0.0021720374934375286\n",
            "epoch 280, loss 0.0022306861355900764, eval loss 0.00725409435108304\n",
            "epoch 281, loss 0.0022165689151734114\n",
            "epoch 282, loss 0.0021492871455848217\n",
            "epoch 283, loss 0.002084621461108327\n",
            "epoch 284, loss 0.0021698707714676857\n",
            "epoch 285, loss 0.002016098238527775\n",
            "epoch 286, loss 0.002088285516947508\n",
            "epoch 287, loss 0.0020650753285735846\n",
            "epoch 288, loss 0.0020520263351500034\n",
            "epoch 289, loss 0.00205318839289248\n",
            "epoch 290, loss 0.002115539275109768\n",
            "epoch 291, loss 0.0020926555152982473\n",
            "epoch 292, loss 0.00219841580837965\n",
            "epoch 293, loss 0.0022021792829036713\n",
            "epoch 294, loss 0.00210825027897954\n",
            "epoch 295, loss 0.0021366330329328775\n",
            "epoch 296, loss 0.002112739719450474\n",
            "epoch 297, loss 0.0022552222944796085\n",
            "epoch 298, loss 0.002064557047560811\n",
            "epoch 299, loss 0.0020599837880581617\n"
          ]
        }
      ],
      "source": [
        "history = []\n",
        "X_test_cuda = torch.tensor(X_test).float().cuda()\n",
        "y_test_cuda = torch.tensor(y_test).float().cuda()\n",
        "\n",
        "# we use all the data in one batch\n",
        "inputs_cuda = torch.tensor(X_train).float().cuda()\n",
        "labels_cuda = torch.tensor(y_train).float().cuda()\n",
        "\n",
        "for epoch in range(num_epochs):\n",
        "    rnn.train()\n",
        "    output, _ = rnn(inputs_cuda, hidden_state)\n",
        "    # print(output.size())\n",
        "\n",
        "    loss = criterion(output[:,0,:].view(-1), labels_cuda)\n",
        "    optimiser.zero_grad()\n",
        "    loss.backward()                     # back propagation\n",
        "    optimiser.step()                    # update the parameters\n",
        "\n",
        "    if epoch % 20 == 0:\n",
        "        rnn.eval()\n",
        "        test_output, _ = rnn(X_test_cuda, hidden_state)\n",
        "        test_loss = criterion(test_output.view(-1), y_test_cuda)\n",
        "        print('epoch {}, loss {}, eval loss {}'.format(epoch, loss.item(), test_loss.item()))\n",
        "    else:\n",
        "        print('epoch {}, loss {}'.format(epoch, loss.item()))\n",
        "    history.append(loss.item())"
      ]
    },
    {
      "cell_type": "code",
      "execution_count": 33,
      "metadata": {
        "colab": {
          "base_uri": "https://localhost:8080/"
        },
        "id": "7jxit4ppO9Q4",
        "outputId": "aad5ec72-66c6-4391-fcba-e46abd406410"
      },
      "outputs": [
        {
          "data": {
            "text/plain": [
              "Parameter containing:\n",
              "tensor([[ 0.0993,  0.0608,  0.0330, -0.0915,  0.0231, -0.0889,  0.0817,  0.0983,\n",
              "         -0.1113,  0.0092,  0.0550,  0.1351,  0.0337, -0.0560,  0.0237,  0.0488,\n",
              "          0.0581, -0.0117, -0.0163, -0.0008, -0.1035,  0.1217,  0.0702,  0.1192,\n",
              "         -0.0679, -0.0582,  0.0647, -0.0109, -0.0547, -0.1096, -0.0029, -0.0146,\n",
              "          0.0278, -0.0745, -0.0366,  0.0838, -0.1151, -0.0761, -0.0343, -0.0935,\n",
              "          0.0513, -0.0379, -0.0200, -0.0400,  0.0684,  0.0885, -0.0874, -0.0357,\n",
              "         -0.0703, -0.0533, -0.0640, -0.0354,  0.0862,  0.0602,  0.0075,  0.0449,\n",
              "          0.1116, -0.0010,  0.0071,  0.1078, -0.0588,  0.1038, -0.1062, -0.0049]],\n",
              "       device='cuda:0', requires_grad=True)"
            ]
          },
          "execution_count": 33,
          "metadata": {},
          "output_type": "execute_result"
        }
      ],
      "source": [
        "rnn.out.weight"
      ]
    },
    {
      "cell_type": "code",
      "execution_count": 34,
      "metadata": {
        "colab": {
          "base_uri": "https://localhost:8080/"
        },
        "id": "4SysHfTsOtPz",
        "outputId": "f5f447f0-202a-4f2f-80c6-58d2f47e5f52"
      },
      "outputs": [
        {
          "name": "stdout",
          "output_type": "stream",
          "text": [
            "tensor([[ 0.1181,  0.0282, -0.0220,  0.1304,  0.0342],\n",
            "        [ 0.0857,  0.0255,  0.0891, -0.0456,  0.1136],\n",
            "        [-0.0118, -0.0082,  0.0446, -0.0778,  0.1277],\n",
            "        ...,\n",
            "        [-0.0823,  0.0913,  0.1196,  0.1356, -0.0488],\n",
            "        [-0.1163, -0.0060,  0.0870, -0.0721,  0.0323],\n",
            "        [-0.0723, -0.0349,  0.0462, -0.0467,  0.0846]], device='cuda:0')\n",
            "tensor([[ 0.0659,  0.1355,  0.0500,  ..., -0.1031, -0.0935, -0.0433],\n",
            "        [ 0.0934,  0.0599, -0.0346,  ..., -0.1406, -0.0756,  0.0235],\n",
            "        [ 0.0759, -0.0094,  0.0634,  ..., -0.0759,  0.1163, -0.0421],\n",
            "        ...,\n",
            "        [ 0.0844,  0.1118,  0.0305,  ...,  0.0130, -0.0770, -0.0550],\n",
            "        [ 0.0862,  0.1334, -0.1227,  ..., -0.0200, -0.0101, -0.0730],\n",
            "        [-0.0658, -0.0970,  0.0106,  ..., -0.0608, -0.0532, -0.0164]],\n",
            "       device='cuda:0')\n",
            "tensor([-0.0697,  0.1372,  0.0640,  0.1185, -0.0777,  0.0893,  0.1015,  0.1402,\n",
            "         0.0717,  0.1012,  0.1154,  0.0881, -0.0335, -0.0075, -0.0961, -0.0485,\n",
            "        -0.0401, -0.0821, -0.0623, -0.0954,  0.0331,  0.0171,  0.0306,  0.0976,\n",
            "         0.0414, -0.0130, -0.0623,  0.1035,  0.0393, -0.0747,  0.1474, -0.0535,\n",
            "         0.0952, -0.0565,  0.0919,  0.1050, -0.0948,  0.0795,  0.0457, -0.0722,\n",
            "        -0.1088, -0.1144, -0.0674,  0.1223,  0.0565,  0.0695,  0.0921,  0.0692,\n",
            "         0.0101,  0.0840, -0.0837, -0.0544,  0.1230, -0.0197, -0.0006,  0.1007,\n",
            "        -0.0754, -0.0010, -0.1033, -0.1047, -0.0538, -0.0593,  0.1072,  0.1359,\n",
            "        -0.0468, -0.0412, -0.0567, -0.0537,  0.0386,  0.0660, -0.0582, -0.0596,\n",
            "         0.0884, -0.0167,  0.1529, -0.0456, -0.0451,  0.1279,  0.0150, -0.1072,\n",
            "        -0.0903,  0.0080, -0.0841,  0.1148,  0.0242,  0.1057,  0.0409,  0.0282,\n",
            "         0.0075,  0.1237,  0.0060, -0.0608, -0.0965,  0.1269,  0.0513,  0.0669,\n",
            "        -0.0516, -0.0797, -0.0347,  0.0565, -0.0555, -0.0216,  0.0062,  0.0497,\n",
            "        -0.0985, -0.0781,  0.0624, -0.0844, -0.1049, -0.0085,  0.0367,  0.1478,\n",
            "         0.0999,  0.0410,  0.0349, -0.0337,  0.0413, -0.0266, -0.0787, -0.0547,\n",
            "        -0.0249,  0.1192,  0.1057, -0.0776,  0.0252, -0.0951, -0.0888, -0.0274,\n",
            "        -0.0451,  0.0249,  0.0640, -0.0300, -0.0326,  0.1131, -0.0764, -0.1197,\n",
            "         0.0953, -0.0194,  0.0922,  0.0122, -0.0786,  0.0530, -0.0375, -0.0079,\n",
            "        -0.1179,  0.0715,  0.0741, -0.0601, -0.1012, -0.0131,  0.0823,  0.0801,\n",
            "         0.1026,  0.0667,  0.0712,  0.0626, -0.0232, -0.0116,  0.0213, -0.0829,\n",
            "        -0.0523,  0.0699, -0.0601,  0.1278, -0.0785, -0.0691,  0.0249, -0.0455,\n",
            "         0.1107, -0.0192,  0.0570, -0.0171,  0.0360, -0.0796, -0.0082, -0.0726,\n",
            "        -0.0113, -0.0640, -0.0309, -0.1169, -0.1263, -0.0563,  0.0740,  0.0492,\n",
            "        -0.0721,  0.0947, -0.0438, -0.1146, -0.0579,  0.1135, -0.0467,  0.0751,\n",
            "         0.1183, -0.1015,  0.1199, -0.0718, -0.0085,  0.0775, -0.0706,  0.1499,\n",
            "        -0.0673, -0.1150,  0.0532, -0.0352,  0.0623, -0.0244, -0.0196,  0.0828,\n",
            "         0.0216, -0.0948,  0.1041, -0.0419,  0.0445, -0.0205,  0.0207,  0.0554,\n",
            "        -0.1156,  0.0352, -0.0582,  0.0951, -0.0958,  0.1163,  0.0920,  0.0906,\n",
            "         0.1344, -0.0119,  0.0820, -0.0251,  0.1348, -0.0336,  0.0275, -0.0412,\n",
            "         0.0213,  0.0439, -0.0071,  0.0387, -0.0891, -0.0235,  0.0729, -0.0501,\n",
            "        -0.1287,  0.0609,  0.0980, -0.0515, -0.0015,  0.1322,  0.0621,  0.1029,\n",
            "         0.0435, -0.0049,  0.1016, -0.0709, -0.0548, -0.1164, -0.0012, -0.0751],\n",
            "       device='cuda:0')\n",
            "tensor([-0.0039,  0.0488,  0.0233,  0.0748,  0.0031,  0.1106,  0.1163,  0.0822,\n",
            "         0.0789,  0.0230,  0.1386, -0.0288,  0.0647,  0.0691, -0.0378,  0.0668,\n",
            "         0.0609, -0.1032, -0.0178,  0.1339,  0.0006,  0.0622,  0.0971,  0.0713,\n",
            "        -0.1036, -0.0066, -0.0816,  0.0822,  0.0680,  0.0024, -0.0079,  0.0783,\n",
            "        -0.0877,  0.0059, -0.0299, -0.0876, -0.0823,  0.1179, -0.1081,  0.1506,\n",
            "         0.1115, -0.0232,  0.0058,  0.0428, -0.0664, -0.0620,  0.1552,  0.1584,\n",
            "        -0.0423, -0.0295,  0.0068,  0.0366, -0.0989,  0.1479, -0.0526, -0.0660,\n",
            "         0.0783, -0.1009, -0.0296,  0.1313, -0.0757,  0.0020, -0.0520,  0.0500,\n",
            "        -0.0122,  0.1230,  0.1265,  0.0284,  0.0461,  0.0275,  0.0844, -0.0236,\n",
            "        -0.0880,  0.1020, -0.0546, -0.0421, -0.1179,  0.0588, -0.1115,  0.0280,\n",
            "        -0.0981, -0.0461,  0.0653, -0.0264, -0.0889,  0.0845,  0.0476, -0.0718,\n",
            "        -0.0429,  0.0966,  0.0811,  0.0745,  0.0408, -0.0400,  0.1314,  0.0680,\n",
            "        -0.0093,  0.1041,  0.0901, -0.0892, -0.0775,  0.0439, -0.0012, -0.0323,\n",
            "         0.1178,  0.1133, -0.0011, -0.0052, -0.0286, -0.1186,  0.1173, -0.0481,\n",
            "         0.0121,  0.1032,  0.0699, -0.0511,  0.0709, -0.0419, -0.1179, -0.0917,\n",
            "        -0.0967,  0.0587, -0.0588,  0.0211,  0.0178,  0.0355,  0.0147,  0.0850,\n",
            "        -0.0506,  0.0532,  0.0327, -0.0432, -0.0935, -0.0801, -0.1169,  0.0193,\n",
            "        -0.0382,  0.0463, -0.0942, -0.1156,  0.1086, -0.0566,  0.1178, -0.0550,\n",
            "         0.0510, -0.0177,  0.0175,  0.1203,  0.0849, -0.0664, -0.0196,  0.0239,\n",
            "         0.0913,  0.0983, -0.0405,  0.0341,  0.0933,  0.0340, -0.1047,  0.0004,\n",
            "         0.0786, -0.0748, -0.0443, -0.0246, -0.1066,  0.0893, -0.0998,  0.0214,\n",
            "        -0.0431, -0.1099,  0.0876,  0.0441,  0.0924,  0.0347,  0.1095, -0.0728,\n",
            "         0.0687,  0.1037,  0.0715,  0.0774,  0.0844, -0.0414,  0.0986,  0.0564,\n",
            "        -0.0504,  0.0791,  0.0710,  0.1037, -0.0115,  0.0704, -0.1029, -0.0971,\n",
            "        -0.1041, -0.0478,  0.0026,  0.0354, -0.0566, -0.0890,  0.0225,  0.1530,\n",
            "        -0.0710, -0.0577,  0.0742,  0.0383,  0.0699, -0.0010,  0.0146, -0.0834,\n",
            "        -0.0960, -0.0689,  0.0987, -0.0089,  0.0541, -0.0025, -0.0391,  0.0909,\n",
            "         0.0141, -0.0647, -0.1075, -0.1307,  0.0277, -0.0949, -0.0338, -0.0645,\n",
            "         0.0692,  0.1097,  0.0193,  0.1042,  0.1079,  0.1242,  0.0217,  0.0450,\n",
            "         0.0856, -0.0407,  0.0638,  0.0617,  0.0097, -0.0595,  0.0783,  0.1354,\n",
            "        -0.0757,  0.0495,  0.1188, -0.0074,  0.0568,  0.0165, -0.1130,  0.0636,\n",
            "        -0.1094,  0.0263, -0.0408, -0.0900,  0.0338,  0.0283,  0.0232, -0.0585],\n",
            "       device='cuda:0')\n",
            "tensor([[-0.1045, -0.0587,  0.0225,  ..., -0.0141, -0.1504,  0.0266],\n",
            "        [-0.0520,  0.1475,  0.0590,  ..., -0.0154, -0.0178, -0.1100],\n",
            "        [ 0.0460,  0.0174,  0.1140,  ...,  0.0661,  0.0528,  0.0616],\n",
            "        ...,\n",
            "        [ 0.0257, -0.0272, -0.0834,  ...,  0.0316,  0.1049,  0.0909],\n",
            "        [ 0.0709,  0.1101,  0.0922,  ..., -0.0786, -0.0125, -0.0700],\n",
            "        [ 0.0762,  0.0682,  0.0774,  ...,  0.0715, -0.0215,  0.0219]],\n",
            "       device='cuda:0')\n",
            "tensor([[-0.0727,  0.1949, -0.0306,  ...,  0.1343,  0.0632, -0.0494],\n",
            "        [-0.0998,  0.2165,  0.1021,  ..., -0.0677, -0.0759,  0.0972],\n",
            "        [-0.0836, -0.0076,  0.0647,  ..., -0.0490, -0.0901, -0.0228],\n",
            "        ...,\n",
            "        [ 0.1071,  0.0071, -0.0764,  ...,  0.0505,  0.0220, -0.0201],\n",
            "        [ 0.0676,  0.0879,  0.0262,  ...,  0.0773, -0.0959,  0.0706],\n",
            "        [ 0.1222, -0.0227,  0.0304,  ..., -0.0737,  0.0525, -0.0056]],\n",
            "       device='cuda:0')\n",
            "tensor([ 0.0754,  0.0331,  0.0406,  0.1234,  0.0605,  0.0083,  0.0142,  0.0500,\n",
            "        -0.1052, -0.0031,  0.0621, -0.0016,  0.1350, -0.0127, -0.0725,  0.0172,\n",
            "         0.0149,  0.0433, -0.0068,  0.0229,  0.1146, -0.0669,  0.0538,  0.0238,\n",
            "         0.0339,  0.1099, -0.0349, -0.0774,  0.1202, -0.0534,  0.0828,  0.1283,\n",
            "        -0.0080, -0.0609, -0.0269,  0.0761, -0.0676, -0.0023,  0.0885,  0.0965,\n",
            "        -0.0500,  0.0785, -0.1070, -0.0960, -0.0395, -0.1063, -0.0358, -0.0935,\n",
            "         0.0561, -0.0146,  0.0429, -0.0989, -0.0005,  0.0272,  0.0653, -0.1075,\n",
            "        -0.1020,  0.0933, -0.0908,  0.0096,  0.0593,  0.0245, -0.0313, -0.0005,\n",
            "         0.0467,  0.0048, -0.0977,  0.0851,  0.0606,  0.0339,  0.0776, -0.0763,\n",
            "         0.0696,  0.1131,  0.0671, -0.0484, -0.0603,  0.0059,  0.0344,  0.0128,\n",
            "        -0.0311,  0.0166, -0.1050, -0.0072,  0.0293,  0.1179, -0.0709,  0.0679,\n",
            "         0.0753,  0.0309,  0.0617,  0.0780, -0.0009, -0.0384,  0.0227, -0.0688,\n",
            "        -0.1035,  0.0501, -0.0094,  0.0715,  0.1249,  0.0059,  0.1232, -0.0487,\n",
            "         0.0695,  0.0821, -0.0843,  0.1291,  0.0517,  0.0525,  0.0364,  0.0272,\n",
            "         0.0846, -0.0772, -0.0979, -0.0875,  0.0925, -0.0783, -0.1251, -0.1382,\n",
            "        -0.1337,  0.0922, -0.0798,  0.0148, -0.0355, -0.1160,  0.0371,  0.0059,\n",
            "        -0.0949,  0.1020,  0.0957,  0.1051,  0.0922, -0.0182, -0.0361, -0.0345,\n",
            "        -0.0563,  0.0435,  0.0773,  0.0409,  0.0608, -0.1267,  0.0604,  0.0468,\n",
            "        -0.0586,  0.0189,  0.0454, -0.0306,  0.0565, -0.0045, -0.0549,  0.0166,\n",
            "         0.0999,  0.0958,  0.0133, -0.1264,  0.1246,  0.0208,  0.0402, -0.0282,\n",
            "        -0.0584,  0.0253,  0.0009, -0.0789,  0.1261,  0.0117,  0.0557, -0.0321,\n",
            "         0.1064, -0.0659, -0.0002, -0.0693, -0.0980,  0.0685,  0.0925, -0.0218,\n",
            "         0.1072, -0.0279,  0.0752,  0.0167,  0.0815,  0.0892,  0.0325, -0.0937,\n",
            "        -0.0549, -0.0536, -0.0134, -0.0768, -0.0624, -0.0356, -0.1262,  0.0634,\n",
            "        -0.0696,  0.1021,  0.0841, -0.0797, -0.0344,  0.0352, -0.0784, -0.0056,\n",
            "         0.0351,  0.0786,  0.0908,  0.0085,  0.1332,  0.0238,  0.0733,  0.0445,\n",
            "         0.0283,  0.0742,  0.0247,  0.0644, -0.1053, -0.0620,  0.1263,  0.1242,\n",
            "         0.0012,  0.0631,  0.0047, -0.0078,  0.0418, -0.0432,  0.0632,  0.0655,\n",
            "         0.0171,  0.0669,  0.0002,  0.1196, -0.0861, -0.1310, -0.0063, -0.0645,\n",
            "        -0.0264, -0.1122,  0.0113,  0.1125,  0.0499,  0.1269, -0.0796,  0.0677,\n",
            "        -0.0156,  0.0093,  0.0550,  0.0039,  0.0393,  0.0205, -0.1225,  0.0206,\n",
            "        -0.0647,  0.0156, -0.1246, -0.0320,  0.0619, -0.0667, -0.1041, -0.0037],\n",
            "       device='cuda:0')\n",
            "tensor([-5.8307e-02, -2.2875e-02, -6.9743e-02,  5.8224e-02, -5.8070e-02,\n",
            "        -1.4440e-02, -1.1828e-01,  3.8998e-02, -7.4685e-02,  1.1941e-02,\n",
            "         9.5262e-02, -5.7992e-02,  1.5145e-01, -1.8533e-02, -3.5015e-02,\n",
            "        -1.6089e-02,  1.0020e-01,  5.5456e-02,  6.9866e-02, -1.1765e-01,\n",
            "         4.5889e-02, -4.2420e-02,  2.3196e-02,  4.1060e-03, -1.6023e-04,\n",
            "        -8.6459e-02,  8.0212e-02, -7.1674e-02,  8.0101e-02, -8.5444e-02,\n",
            "        -2.5370e-02, -9.3165e-02, -6.4546e-02,  3.8598e-02, -1.0385e-01,\n",
            "         2.8156e-02,  9.7750e-02,  5.4898e-02, -1.0119e-01,  1.0163e-01,\n",
            "         7.2539e-02,  2.0725e-03, -7.9106e-02, -6.5758e-02,  7.7823e-02,\n",
            "        -1.1681e-01,  1.0419e-01, -6.7392e-02,  6.9362e-02, -1.2536e-01,\n",
            "         2.0970e-02,  9.1076e-03,  5.8072e-02, -4.8146e-03, -1.3441e-01,\n",
            "        -5.9563e-02,  6.8835e-02,  7.0203e-02,  4.4762e-02,  8.4419e-02,\n",
            "        -7.8680e-02,  1.9245e-02, -4.6221e-02, -6.7362e-03,  1.0164e-01,\n",
            "         8.0923e-02,  1.1791e-02,  6.9230e-02, -1.9390e-02, -1.2113e-01,\n",
            "        -3.3239e-03, -7.8428e-05, -1.6321e-02, -1.3257e-02,  1.2622e-01,\n",
            "         1.3392e-01, -1.1177e-01, -1.0528e-01, -9.8769e-02,  1.1248e-01,\n",
            "         9.9009e-02,  3.7532e-02, -9.8522e-03, -1.6205e-03,  4.6135e-02,\n",
            "         1.9647e-03,  9.4933e-02,  1.2684e-01, -1.3775e-01, -3.3608e-02,\n",
            "        -8.6295e-03, -7.7946e-02, -8.7196e-02,  1.0453e-01,  8.9060e-02,\n",
            "         9.1368e-02, -1.0825e-01, -9.7630e-02, -8.1678e-02, -9.1473e-02,\n",
            "         8.3412e-02,  9.0720e-02, -1.0706e-01, -5.4134e-02, -6.1037e-02,\n",
            "        -7.8294e-02,  2.5529e-02, -3.3645e-02,  1.0856e-01, -1.1421e-01,\n",
            "        -1.0220e-01,  1.3204e-03, -4.6268e-02, -9.0940e-02,  7.2291e-02,\n",
            "        -1.8583e-02, -8.5107e-02,  3.9417e-02, -6.4478e-02,  1.0211e-01,\n",
            "        -1.2700e-01,  1.2231e-01, -4.5606e-02,  7.8899e-02,  4.0965e-02,\n",
            "         1.4029e-02,  3.5955e-02,  1.2234e-01, -3.2596e-02,  9.9788e-03,\n",
            "         3.5955e-02, -8.2231e-02,  6.2098e-02,  9.9969e-02,  1.5906e-03,\n",
            "        -1.1951e-01,  6.2067e-02,  3.5434e-02,  3.6624e-02, -1.7576e-02,\n",
            "         9.6341e-02,  3.8907e-02,  8.5934e-02, -4.4733e-02, -2.8210e-02,\n",
            "        -2.0475e-02,  1.0475e-01,  9.5849e-02,  2.5632e-02,  9.4752e-02,\n",
            "        -1.2676e-01,  6.1824e-02, -1.0958e-01,  2.7837e-02, -1.1698e-01,\n",
            "        -5.8600e-02, -7.0483e-02,  1.0597e-01, -3.0073e-02, -1.0730e-01,\n",
            "        -1.0504e-01,  8.4196e-02, -5.9553e-02,  2.8632e-02,  1.6665e-02,\n",
            "         2.0795e-02,  5.7076e-02,  6.6432e-03,  6.5079e-02, -4.5011e-03,\n",
            "        -1.1338e-01,  3.5351e-02, -1.7395e-02, -1.3248e-02, -1.1851e-02,\n",
            "         7.1294e-03,  2.0634e-02,  4.2553e-02, -8.0652e-02,  1.0115e-01,\n",
            "        -8.5819e-02, -3.2634e-02, -7.5373e-02,  1.0386e-01,  6.6096e-02,\n",
            "         8.4642e-04,  1.9488e-03, -1.0034e-01, -1.0210e-03,  9.7217e-02,\n",
            "        -3.5001e-02,  9.9077e-02, -7.1654e-02,  2.9713e-02, -7.9690e-02,\n",
            "        -9.1718e-02,  9.6682e-03,  2.7630e-02,  6.6852e-02, -9.4872e-02,\n",
            "         6.5867e-02, -1.8120e-02,  2.4500e-02,  6.6163e-02,  1.4016e-01,\n",
            "        -7.1243e-02, -3.6511e-02,  1.3731e-02, -3.1793e-02, -2.9607e-02,\n",
            "        -5.8568e-02,  1.1534e-01,  2.2629e-02,  1.3178e-01,  8.3447e-02,\n",
            "        -5.5984e-02, -1.1019e-01, -1.0328e-01,  2.0417e-02,  1.0883e-01,\n",
            "         1.0207e-01,  9.0964e-02,  3.9292e-02, -3.0187e-02,  1.1714e-03,\n",
            "         6.5498e-02, -9.5292e-03,  2.2830e-02, -1.0773e-01,  7.6478e-02,\n",
            "        -1.1732e-01,  3.2968e-02, -1.0901e-01, -1.1656e-02, -9.6374e-02,\n",
            "         5.8749e-02, -1.1199e-01,  1.2286e-01, -6.9637e-02, -3.7301e-02,\n",
            "        -8.4198e-03, -1.0693e-01, -8.9038e-02,  1.0899e-01, -1.0088e-01,\n",
            "         1.2667e-01, -4.5216e-02,  3.2022e-02,  1.4902e-02,  9.4975e-02,\n",
            "         1.0347e-01,  9.3765e-02, -8.7887e-02, -3.0284e-02, -6.7980e-02,\n",
            "        -1.6336e-02], device='cuda:0')\n",
            "tensor([[-0.0365,  0.0360,  0.1184,  ...,  0.0988,  0.0691,  0.0450],\n",
            "        [-0.0295, -0.0696, -0.1130,  ..., -0.1146, -0.0116, -0.1054],\n",
            "        [ 0.0438, -0.0281,  0.0123,  ..., -0.0460, -0.0060,  0.0992],\n",
            "        ...,\n",
            "        [ 0.0624, -0.0256,  0.0156,  ..., -0.0597,  0.0744, -0.0888],\n",
            "        [ 0.1038,  0.0444, -0.0378,  ..., -0.0572, -0.0812, -0.0138],\n",
            "        [ 0.0278, -0.1048,  0.0846,  ..., -0.0241,  0.0470, -0.0074]],\n",
            "       device='cuda:0')\n",
            "tensor([[ 0.1097, -0.0180, -0.0090,  ...,  0.1069, -0.0869,  0.0899],\n",
            "        [-0.1286,  0.0663,  0.0822,  ..., -0.0317,  0.0524, -0.0676],\n",
            "        [-0.0974,  0.0282, -0.0022,  ..., -0.0975,  0.0230, -0.0023],\n",
            "        ...,\n",
            "        [ 0.0309, -0.0490, -0.0487,  ..., -0.0471,  0.0831, -0.0986],\n",
            "        [-0.1077, -0.0774, -0.0583,  ..., -0.0318,  0.0645, -0.0386],\n",
            "        [ 0.0661,  0.0572, -0.1263,  ..., -0.0457, -0.0608, -0.0897]],\n",
            "       device='cuda:0')\n",
            "tensor([-0.1061,  0.0635, -0.1261, -0.1011, -0.1128, -0.0763, -0.0593, -0.0016,\n",
            "         0.0980, -0.0022,  0.0245, -0.0664,  0.0882,  0.0467, -0.0196,  0.1077,\n",
            "         0.0226,  0.1078, -0.0545, -0.1283,  0.0047,  0.0995, -0.1109, -0.0522,\n",
            "        -0.0390,  0.0346,  0.0268,  0.0192, -0.1190, -0.0594, -0.0108,  0.0723,\n",
            "        -0.0635,  0.0205,  0.0790,  0.0157,  0.1173,  0.1031,  0.1009, -0.1074,\n",
            "        -0.0793,  0.0069, -0.0915,  0.0419,  0.0475,  0.0436,  0.0080,  0.0552,\n",
            "         0.1093, -0.1164, -0.1099,  0.1099,  0.0074,  0.0786,  0.0272, -0.0058,\n",
            "        -0.0289, -0.1387,  0.0417,  0.0910,  0.0677,  0.1001, -0.0474, -0.1169,\n",
            "        -0.0932,  0.0656,  0.0435, -0.1089, -0.0416, -0.0119,  0.0662, -0.0238,\n",
            "        -0.0656, -0.0245, -0.0638,  0.1182,  0.0851, -0.0269, -0.0042,  0.1000,\n",
            "         0.0659,  0.0135,  0.0534, -0.0735,  0.0843,  0.0940,  0.0642,  0.0673,\n",
            "         0.0896,  0.1119,  0.0442,  0.0706, -0.0182,  0.0142, -0.0071, -0.0836,\n",
            "        -0.0170,  0.0372,  0.0753,  0.0250, -0.0625, -0.0216, -0.0136,  0.0999,\n",
            "         0.0300,  0.0497,  0.0519, -0.0915, -0.1012, -0.0695,  0.1312,  0.0088,\n",
            "        -0.0217, -0.1198,  0.0845, -0.0249, -0.0859, -0.0255,  0.0645,  0.0377,\n",
            "        -0.0452, -0.0419, -0.0812,  0.0663, -0.0221, -0.1103,  0.0284, -0.0086,\n",
            "        -0.0089,  0.0599, -0.0014, -0.1109,  0.0541, -0.0981, -0.0066,  0.0507,\n",
            "        -0.0458, -0.1191, -0.0664,  0.0108, -0.0715, -0.1293,  0.0730,  0.1326,\n",
            "        -0.0885,  0.0205, -0.0894,  0.0903, -0.0043, -0.0183,  0.0494, -0.0886,\n",
            "         0.1059, -0.0984, -0.0358,  0.0768,  0.0124, -0.0628,  0.0661,  0.0870,\n",
            "        -0.0933,  0.1099,  0.0614,  0.0363,  0.0322,  0.0160,  0.0256, -0.0774,\n",
            "        -0.0257, -0.0343,  0.0027, -0.1055, -0.0012, -0.0689, -0.0533, -0.0027,\n",
            "         0.0225,  0.0146,  0.0831, -0.0245,  0.0999,  0.0084, -0.0927, -0.0318,\n",
            "        -0.0335,  0.0883,  0.0206,  0.0938, -0.0779,  0.1261, -0.0516, -0.0873,\n",
            "        -0.0960,  0.0077,  0.0781, -0.0944, -0.0478, -0.0385,  0.1027,  0.0407,\n",
            "        -0.0625,  0.0536,  0.0248, -0.0694,  0.0066, -0.0877,  0.1236, -0.0458,\n",
            "        -0.0011, -0.1033,  0.0625,  0.1097,  0.0930, -0.0646, -0.0184, -0.0099,\n",
            "         0.1219, -0.0070,  0.0209,  0.0729,  0.0145,  0.0695,  0.0897, -0.1067,\n",
            "        -0.1306,  0.0246,  0.0505,  0.0859, -0.1105,  0.0479,  0.0778,  0.0153,\n",
            "         0.0600,  0.0182,  0.0606,  0.0909, -0.0690, -0.1100, -0.1018, -0.0055,\n",
            "         0.0986, -0.0512, -0.0404, -0.0903, -0.0334, -0.1022,  0.0564,  0.0145,\n",
            "        -0.0122, -0.0239,  0.0543,  0.1132,  0.0605, -0.0294, -0.0671,  0.0388],\n",
            "       device='cuda:0')\n",
            "tensor([-0.0875,  0.1128,  0.0301, -0.0161, -0.0999, -0.0196, -0.0027, -0.0566,\n",
            "         0.1064, -0.0678, -0.0151, -0.0240, -0.0612, -0.0278, -0.0604, -0.0790,\n",
            "         0.0949, -0.1104,  0.0667, -0.0374, -0.0709, -0.0240, -0.0204,  0.0651,\n",
            "        -0.0023, -0.0039, -0.1131,  0.0733, -0.0197, -0.0735,  0.0853,  0.1120,\n",
            "         0.0416,  0.0809,  0.1155, -0.0490,  0.0754,  0.0371, -0.0718, -0.0395,\n",
            "        -0.1134,  0.0706,  0.1014, -0.0309, -0.0611, -0.0009, -0.0392, -0.0208,\n",
            "         0.0102, -0.1243,  0.0946,  0.0745, -0.0389,  0.0636,  0.0260,  0.0766,\n",
            "        -0.0792, -0.1417, -0.1047, -0.0915,  0.0156, -0.0234,  0.0415, -0.0441,\n",
            "         0.0652,  0.0497,  0.0272,  0.0567, -0.0559,  0.0146,  0.0638, -0.0815,\n",
            "         0.0584,  0.0538, -0.0471,  0.1175,  0.0095,  0.0587,  0.0195, -0.0801,\n",
            "        -0.0401,  0.0198,  0.1076, -0.0446,  0.0999,  0.0498,  0.0131, -0.0354,\n",
            "         0.0254,  0.1184,  0.0438,  0.0737, -0.1134,  0.0447, -0.0509, -0.0671,\n",
            "         0.0855,  0.0684, -0.0542,  0.1102, -0.0884,  0.0292,  0.0772, -0.0867,\n",
            "         0.0565, -0.0391, -0.0274, -0.0765, -0.1184, -0.1198,  0.0362,  0.0661,\n",
            "        -0.1139,  0.0471, -0.0861,  0.0948,  0.0841, -0.0171,  0.0797,  0.1122,\n",
            "        -0.0548, -0.0162, -0.0357, -0.0091,  0.0674,  0.0443,  0.0579,  0.0836,\n",
            "         0.0212, -0.1058,  0.0259, -0.0124,  0.0252,  0.0782, -0.0989, -0.0228,\n",
            "        -0.0833, -0.0238,  0.0126,  0.0174,  0.1319, -0.1111,  0.0876,  0.0484,\n",
            "        -0.0794,  0.0096, -0.0897, -0.0651, -0.0889,  0.0924,  0.0140,  0.1003,\n",
            "        -0.0932,  0.0312, -0.0419, -0.0323,  0.0478, -0.0202,  0.0462,  0.0618,\n",
            "        -0.0734,  0.0699, -0.1264,  0.0697, -0.1123, -0.0285,  0.1028, -0.0436,\n",
            "         0.0583, -0.0955,  0.0917,  0.0629, -0.0554, -0.0392, -0.0983,  0.0712,\n",
            "        -0.0251,  0.1070, -0.1128,  0.0709, -0.0768,  0.1115, -0.0113,  0.0725,\n",
            "         0.0667,  0.0398,  0.0554, -0.1005, -0.1101,  0.0897, -0.1067, -0.0828,\n",
            "        -0.0896, -0.0678,  0.0329,  0.0896, -0.0851,  0.1114,  0.0157,  0.0235,\n",
            "         0.0006,  0.0989,  0.1269, -0.0451,  0.1299, -0.1078,  0.0055,  0.0317,\n",
            "        -0.0790, -0.1177, -0.0957,  0.0668, -0.0081,  0.0199, -0.0856,  0.0527,\n",
            "         0.1214,  0.0794,  0.0959, -0.1109, -0.1012,  0.0423, -0.0290, -0.1058,\n",
            "        -0.0065,  0.0930, -0.1044, -0.0647,  0.1116,  0.1207, -0.0580,  0.0368,\n",
            "        -0.0055, -0.0881,  0.0546,  0.0895,  0.0981, -0.1201, -0.0226,  0.0747,\n",
            "         0.0792,  0.0958, -0.0954, -0.0514,  0.0337,  0.0751, -0.0855, -0.0458,\n",
            "         0.0556,  0.0273, -0.0749, -0.0082, -0.0650, -0.0706,  0.0726, -0.1139],\n",
            "       device='cuda:0')\n",
            "tensor([[ 0.0993,  0.0608,  0.0330, -0.0915,  0.0231, -0.0889,  0.0817,  0.0983,\n",
            "         -0.1113,  0.0092,  0.0550,  0.1351,  0.0337, -0.0560,  0.0237,  0.0488,\n",
            "          0.0581, -0.0117, -0.0163, -0.0008, -0.1035,  0.1217,  0.0702,  0.1192,\n",
            "         -0.0679, -0.0582,  0.0647, -0.0109, -0.0547, -0.1096, -0.0029, -0.0146,\n",
            "          0.0278, -0.0745, -0.0366,  0.0838, -0.1151, -0.0761, -0.0343, -0.0935,\n",
            "          0.0513, -0.0379, -0.0200, -0.0400,  0.0684,  0.0885, -0.0874, -0.0357,\n",
            "         -0.0703, -0.0533, -0.0640, -0.0354,  0.0862,  0.0602,  0.0075,  0.0449,\n",
            "          0.1116, -0.0010,  0.0071,  0.1078, -0.0588,  0.1038, -0.1062, -0.0049]],\n",
            "       device='cuda:0')\n",
            "tensor([-0.0367], device='cuda:0')\n"
          ]
        }
      ],
      "source": [
        "for param in rnn.parameters():\n",
        "    print(param.data)"
      ]
    },
    {
      "cell_type": "markdown",
      "metadata": {
        "id": "PY0wF6e46-JE"
      },
      "source": [
        "# 5. Model Evaluation"
      ]
    },
    {
      "cell_type": "code",
      "execution_count": 38,
      "metadata": {
        "colab": {
          "base_uri": "https://localhost:8080/",
          "height": 447
        },
        "id": "6dygBlig6_XD",
        "outputId": "b7693765-fa6d-4c17-dced-0699e59d590d"
      },
      "outputs": [
        {
          "data": {
            "text/plain": [
              "[<matplotlib.lines.Line2D at 0x7e8f09579bd0>]"
            ]
          },
          "execution_count": 38,
          "metadata": {},
          "output_type": "execute_result"
        },
        {
          "data": {
            "image/png": "[encoded data removed]",
            "text/plain": [
              "<Figure size 640x480 with 1 Axes>"
            ]
          },
          "metadata": {},
          "output_type": "display_data"
        }
      ],
      "source": [
        "plt.plot(history)"
      ]
    },
    {
      "cell_type": "code",
      "execution_count": 19,
      "metadata": {
        "colab": {
          "base_uri": "https://localhost:8080/"
        },
        "id": "ScaBHhTv7Jih",
        "outputId": "6b95bca5-8b01-44b5-fe58-69acc1b2bd3c"
      },
      "outputs": [
        {
          "data": {
            "text/plain": [
              "array([[0.68272827, 0.68184818, 0.6860286 , 0.71023102, 0.70737074]])"
            ]
          },
          "execution_count": 19,
          "metadata": {},
          "output_type": "execute_result"
        }
      ],
      "source": [
        "X_test[0]"
      ]
    },
    {
      "cell_type": "code",
      "execution_count": 43,
      "metadata": {
        "id": "hyICDKXa7Vbe"
      },
      "outputs": [],
      "source": [
        "rnn.eval()\n",
        "\n",
        "test_predict, _ = rnn(X_test_cuda, hidden_state)\n",
        "test_predict_cpu = test_predict.cpu().detach().numpy()"
      ]
    },
    {
      "cell_type": "code",
      "execution_count": 40,
      "metadata": {
        "colab": {
          "base_uri": "https://localhost:8080/"
        },
        "id": "FwD_e6VO-cIa",
        "outputId": "0f00995b-b3c0-4160-e50f-b5e250773c95"
      },
      "outputs": [
        {
          "data": {
            "text/plain": [
              "(251, 1, 1)"
            ]
          },
          "execution_count": 40,
          "metadata": {},
          "output_type": "execute_result"
        }
      ],
      "source": [
        "test_predict_cpu.shape"
      ]
    },
    {
      "cell_type": "code",
      "execution_count": 41,
      "metadata": {
        "colab": {
          "base_uri": "https://localhost:8080/",
          "height": 447
        },
        "id": "c-__h1sU7kW6",
        "outputId": "ad23d452-3c05-4fab-8418-7bf5cff190e0"
      },
      "outputs": [
        {
          "data": {
            "text/plain": [
              "[<matplotlib.lines.Line2D at 0x7e8f094ce980>]"
            ]
          },
          "execution_count": 41,
          "metadata": {},
          "output_type": "execute_result"
        },
        {
          "data": {
            "image/png": "[encoded data removed]",
            "text/plain": [
              "<Figure size 640x480 with 1 Axes>"
            ]
          },
          "metadata": {},
          "output_type": "display_data"
        }
      ],
      "source": [
        "plt.plot(sc.inverse_transform(y_test.reshape(-1,1)))\n",
        "plt.plot(sc.inverse_transform(test_predict_cpu.reshape(-1,1)))"
      ]
    },
    {
      "cell_type": "code",
      "execution_count": 44,
      "metadata": {
        "colab": {
          "base_uri": "https://localhost:8080/",
          "height": 449
        },
        "id": "LnMGQ5Sa8vMs",
        "outputId": "e730170e-7e09-45d1-e968-111ee88c8d3c"
      },
      "outputs": [
        {
          "data": {
            "image/png": "[encoded data removed]",
            "text/plain": [
              "<Figure size 640x480 with 1 Axes>"
            ]
          },
          "metadata": {},
          "output_type": "display_data"
        }
      ],
      "source": [
        "# plot original data\n",
        "plt.plot(sc.inverse_transform(y.reshape(-1,1)), color='k')\n",
        "\n",
        "train_pred, hidden_state = rnn(inputs_cuda, None)\n",
        "train_pred_cpu = train_pred.cpu().detach().numpy()\n",
        "\n",
        "# use hidden state from previous training data\n",
        "test_predict, _ = rnn(X_test_cuda, hidden_state)\n",
        "test_predict_cpu = test_predict.cpu().detach().numpy()\n",
        "\n",
        "split_pt = int(X.shape[0] * 0.80) + 7 # window_size\n",
        "plt.plot(np.arange(7, split_pt, 1), sc.inverse_transform(train_pred_cpu.reshape(-1,1)), color='b')\n",
        "plt.plot(np.arange(split_pt, split_pt + len(test_predict_cpu), 1), sc.inverse_transform(test_predict_cpu.reshape(-1,1)), color='r')\n",
        "\n",
        "# pretty up graph\n",
        "plt.xlabel('day')\n",
        "plt.ylabel('price of AAL stock')\n",
        "plt.legend(['original series','training fit','testing fit'], loc='center left', bbox_to_anchor=(1, 0.5))\n",
        "plt.show()\n"
      ]
    },
    {
      "cell_type": "code",
      "execution_count": null,
      "metadata": {
        "id": "u4J-TrjE2bTy"
      },
      "outputs": [],
      "source": []
    }
  ],
  "metadata": {
    "accelerator": "GPU",
    "colab": {
      "provenance": [],
      "toc_visible": true
    },
    "kernelspec": {
      "display_name": "Python 3",
      "name": "python3"
    }
  },
  "nbformat": 4,
  "nbformat_minor": 0
}
